{
  "nbformat": 4,
  "nbformat_minor": 0,
  "metadata": {
    "colab": {
      "provenance": []
    },
    "kernelspec": {
      "name": "python3",
      "display_name": "Python 3"
    },
    "language_info": {
      "name": "python"
    }
  },
  "cells": [
    {
      "cell_type": "markdown",
      "source": [
        "# Clases en python.\n",
        "\n",
        "Las clases son una forma de organizar y estructurar el código en Python. Pueden contener funciones y variables, lo que las hace muy versátiles. Las clases son una parte fundamental de la programación orientada a objetos (POO).\n",
        "\n",
        "La POO es un paradigma de programación que utiliza objetos para representar entidades del mundo real. Por ejemplo, una clase \"Coche\" podría representar un coche del mundo real, con sus propiedades (marca, modelo, color, etc.) y sus métodos (acelerar, frenar, girar, etc.).\n",
        "\n",
        "\n",
        "En términos simples, una clase en programación es una plantilla o molde que se utiliza para crear objetos. La clase define las propiedades y los comportamientos de los objetos que se crean a partir de ella.\n",
        "\n",
        "**Ejemplo**:\n",
        "\n",
        "Piensa en una clase como si fuera un plano para construir un edificio. El plano especifica cómo debe ser el edificio, incluyendo el número de pisos, el número de habitaciones, el tamaño de las ventanas, etc.\n",
        "\n",
        "De manera similar, una clase define las características y comportamientos que tendrá un objeto. Por ejemplo, si tenemos una clase \"Coche\", podemos definir las propiedades de un coche, como su marca, modelo, color, etc. y los comportamientos que tiene un coche, como acelerar, frenar y girar. Luego, podemos crear múltiples objetos \"coche\" a partir de esta clase, cada uno con sus propias propiedades y comportamientos.\n",
        "\n"
      ],
      "metadata": {
        "id": "hFnAE4eorCHN"
      }
    },
    {
      "cell_type": "markdown",
      "source": [
        "### **Crear una clase**\n",
        "\n",
        "Para crear una clase en Python, usamos la palabra clave \"class\", seguida del nombre de la clase:"
      ],
      "metadata": {
        "id": "E-tNF60K_9b9"
      }
    },
    {
      "cell_type": "code",
      "execution_count": null,
      "metadata": {
        "id": "hi8DOAlZmPjH",
        "colab": {
          "base_uri": "https://localhost:8080/",
          "height": 143
        },
        "outputId": "811d50a3-b874-4f85-f5a3-897a106cb617"
      },
      "outputs": [
        {
          "output_type": "error",
          "ename": "SyntaxError",
          "evalue": "ignored",
          "traceback": [
            "\u001b[0;36m  File \u001b[0;32m\"<ipython-input-1-0bc96e81d1fc>\"\u001b[0;36m, line \u001b[0;32m1\u001b[0m\n\u001b[0;31m    class Coche:\u001b[0m\n\u001b[0m                ^\u001b[0m\n\u001b[0;31mSyntaxError\u001b[0m\u001b[0;31m:\u001b[0m incomplete input\n"
          ]
        }
      ],
      "source": [
        "class Coche:"
      ]
    },
    {
      "cell_type": "markdown",
      "source": [
        "Dentro de la clase, podemos definir variables y funciones. Las variables se llaman \"atributos\" y las funciones se llaman \"métodos\"."
      ],
      "metadata": {
        "id": "aTnx3vjGAIh7"
      }
    },
    {
      "cell_type": "markdown",
      "source": [
        "#### **Atributos**\n",
        "\n",
        "Los atributos son variables que pertenecen a una clase. Por ejemplo, en una clase \"Coche\", los atributos podrían ser \"marca\", \"modelo\" y \"color\". Para definir un atributo, lo hacemos dentro de la clase, pero fuera de cualquier método:"
      ],
      "metadata": {
        "id": "DT2TvFHxAJlz"
      }
    },
    {
      "cell_type": "code",
      "source": [
        "class Coche:\n",
        "    marca = \"Toyota\"\n",
        "    modelo = \"Corolla\"\n",
        "    color = \"Rojo\""
      ],
      "metadata": {
        "id": "sfC5pdD7ANuq"
      },
      "execution_count": null,
      "outputs": []
    },
    {
      "cell_type": "markdown",
      "source": [
        "#### **Métodos**\n",
        "\n",
        "Los métodos son funciones que pertenecen a una clase. Por ejemplo, en una clase \"Coche\", los métodos podrían ser \"acelerar\", \"frenar\" y \"girar\". Para definir un método, lo hacemos dentro de la clase:\n",
        "\n"
      ],
      "metadata": {
        "id": "1TDchxG8ASQD"
      }
    },
    {
      "cell_type": "code",
      "source": [
        "class Coche:\n",
        "    marca = \"Toyota\"\n",
        "    modelo = \"Corolla\"\n",
        "    color = \"Rojo\"\n",
        "\n",
        "    def acelerar(self):\n",
        "        print(\"El coche está acelerando\")\n",
        "\n",
        "    def frenar(self):\n",
        "        print(\"El coche está frenando\")\n",
        "\n",
        "    def girar(self, direccion):\n",
        "        print(\"El coche está girando hacia \" + direccion)"
      ],
      "metadata": {
        "id": "q33frF1wAX9C"
      },
      "execution_count": null,
      "outputs": []
    },
    {
      "cell_type": "markdown",
      "source": [
        "**Nota**: El primer parámetro de un método siempre es \"self\". Este parámetro hace referencia al objeto que se está creando. Por ejemplo, si creamos un objeto \"coche\" a partir de la clase \"Coche\", al llamar al método \"acelerar\", el objeto \"coche\" se pasará automáticamente como primer parámetro."
      ],
      "metadata": {
        "id": "o41PexstAdY6"
      }
    },
    {
      "cell_type": "markdown",
      "source": [
        "### **Crear un objeto**\n",
        "\n",
        "Para crear un objeto a partir de una clase, simplemente hacemos lo siguiente:"
      ],
      "metadata": {
        "id": "hnRv4ZMtAgt7"
      }
    },
    {
      "cell_type": "code",
      "source": [
        "coche = Coche()"
      ],
      "metadata": {
        "id": "4TlvhlD1Alrs"
      },
      "execution_count": null,
      "outputs": []
    },
    {
      "cell_type": "markdown",
      "source": [
        "Esto crea un objeto \"coche\" a partir de la clase \"Coche\". Podemos acceder a los atributos y métodos del objeto de la siguiente manera:"
      ],
      "metadata": {
        "id": "fMCPalavAm-D"
      }
    },
    {
      "cell_type": "code",
      "source": [
        "print(coche.marca)\n",
        "print(coche.modelo)\n",
        "print(coche.color)\n",
        "\n",
        "coche.acelerar()\n",
        "coche.frenar()\n",
        "coche.girar(\"izquierda\")"
      ],
      "metadata": {
        "id": "HZAkrbk7Aoti",
        "colab": {
          "base_uri": "https://localhost:8080/"
        },
        "outputId": "16ae645a-5c8f-479a-9599-d6fc4875c6f8"
      },
      "execution_count": null,
      "outputs": [
        {
          "output_type": "stream",
          "name": "stdout",
          "text": [
            "Toyota\n",
            "Corolla\n",
            "Rojo\n",
            "El coche está acelerando\n",
            "El coche está frenando\n",
            "El coche está girando hacia izquierda\n"
          ]
        }
      ]
    },
    {
      "cell_type": "markdown",
      "source": [
        "### Ejemplo_1\n",
        "\n",
        "En este ejemplo, podríamos crear una clase llamada \"Perro\" que tenga atributos como nombre, raza, edad, tamaño, y métodos como ladrar, correr, morder, etc."
      ],
      "metadata": {
        "id": "TR-xIdH1AqQL"
      }
    },
    {
      "cell_type": "code",
      "source": [
        "class Perro:\n",
        "    def __init__(self, nombre, raza, edad, tamaño):\n",
        "        self.nombre = nombre\n",
        "        self.raza = raza\n",
        "        self.edad = edad\n",
        "        self.tamaño = tamaño\n",
        "\n",
        "    def ladrar(self):\n",
        "        print(f\"{self.nombre} está ladrando.\")\n",
        "\n",
        "    def correr(self):\n",
        "        print(f\"{self.nombre} está corriendo.\")\n",
        "\n",
        "    def morder(self):\n",
        "        print(f\"{self.nombre} está mordiendo.\")"
      ],
      "metadata": {
        "id": "Rk7z54NkA9OK"
      },
      "execution_count": null,
      "outputs": []
    },
    {
      "cell_type": "markdown",
      "source": [
        "En este ejemplo, la función '__init__' es el constructor de la clase, que se utiliza para inicializar los atributos de la clase. Luego, se definen los métodos ladrar, correr y morder que describen los comportamientos que puede tener un perro.\n",
        "\n",
        "Podemos crear objetos de la clase \"Perro\" de la siguiente manera:"
      ],
      "metadata": {
        "id": "KLr8hp8oA6ai"
      }
    },
    {
      "cell_type": "code",
      "source": [
        "perro1 = Perro(\"Fido\", \"Labrador\", 3, \"Grande\")\n",
        "perro2 = Perro(\"Toby\", \"Chihuahua\", 2, \"Pequeño\")"
      ],
      "metadata": {
        "id": "N2HsvjXhA-jB"
      },
      "execution_count": null,
      "outputs": []
    },
    {
      "cell_type": "markdown",
      "source": [
        "Cada objeto creado a partir de la clase \"Perro\" tendrá sus propios atributos y comportamientos. Por ejemplo, podemos llamar al método ladrar del objeto perro1 de la siguiente manera"
      ],
      "metadata": {
        "id": "fQEU8p17Cayg"
      }
    },
    {
      "cell_type": "code",
      "source": [
        "perro1.ladrar()"
      ],
      "metadata": {
        "id": "rhS8cNz8Calx",
        "outputId": "92dbf61e-0c65-4761-bb96-7d8381534e79",
        "colab": {
          "base_uri": "https://localhost:8080/"
        }
      },
      "execution_count": null,
      "outputs": [
        {
          "output_type": "stream",
          "name": "stdout",
          "text": [
            "Fido está ladrando.\n"
          ]
        }
      ]
    },
    {
      "cell_type": "markdown",
      "source": [
        "### Ejercicio_2\n",
        "\n",
        "Supongamos que estás construyendo un sistema de tienda en línea en Python. El sistema necesita manejar muchos productos diferentes, cada uno con sus propias propiedades como nombre, descripción, precio, inventario, etc. También necesita manejar diferentes clientes y sus órdenes de compra."
      ],
      "metadata": {
        "id": "tDvFelEXCtPB"
      }
    },
    {
      "cell_type": "markdown",
      "source": [
        "**¿Cómo podemos hacerlo?**\n",
        "\n",
        "Por ejemplo, podríamos crear una clase \"Producto\" que tenga atributos como nombre, descripción, precio, inventario, etc., y métodos para agregar y eliminar productos del inventario.\n",
        "\n",
        "De manera similar, podríamos crear una clase \"Cliente\" que tenga atributos como nombre, dirección de correo electrónico, historial de compras, etc., y métodos para realizar pedidos y revisar su historial de compras.\n",
        "\n",
        "Finalmente, podríamos crear una clase \"Orden\" que tenga atributos como los productos que se compraron, la cantidad, el costo total, etc., y métodos para confirmar la orden y actualizar el inventario.\n"
      ],
      "metadata": {
        "id": "WBaNntfvDcnQ"
      }
    },
    {
      "cell_type": "code",
      "source": [
        "class Producto:\n",
        "    def __init__(self, nombre, descripcion, precio, inventario):\n",
        "        self.nombre = nombre\n",
        "        self.descripcion = descripcion\n",
        "        self.precio = precio\n",
        "        self.inventario = inventario\n",
        "\n",
        "    def agregar_inventario(self, cantidad):\n",
        "        self.inventario += cantidad\n",
        "\n",
        "    def eliminar_inventario(self, cantidad):\n",
        "        self.inventario -= cantidad"
      ],
      "metadata": {
        "id": "fPeeKFK3Dil2"
      },
      "execution_count": null,
      "outputs": []
    },
    {
      "cell_type": "markdown",
      "source": [
        "En este ejemplo, la función __init__ es el constructor de la clase \"Producto\" y se utiliza para inicializar los atributos de la clase. Los métodos agregar_inventario y eliminar_inventario se utilizan para agregar o eliminar productos del inventario.\n",
        "\n",
        "Con estas clases, podemos manejar fácilmente la información de los productos, los clientes y las órdenes de compra en nuestro sistema de tienda en línea"
      ],
      "metadata": {
        "id": "xxxNYz0FDoUf"
      }
    },
    {
      "cell_type": "markdown",
      "source": [
        "## Ejercicios\n",
        "\n",
        "1. Crea una clase \"Persona\" que tenga atributos como nombre, edad, género y métodos para presentarse y saludar a otras personas.\n",
        "\n",
        "2. Crea una clase \"Coche\" que tenga atributos como marca, modelo, año, kilometraje y métodos para arrancar, acelerar y frenar.\n",
        "\n",
        "3. Crea una clase \"Rectángulo\" que tenga atributos como longitud y ancho y métodos para calcular el área y el perímetro.\n",
        "\n",
        "4. Crea una clase \"Banco\" que tenga atributos como nombre, dirección y métodos para abrir una cuenta, depositar dinero, retirar dinero y revisar el saldo.\n",
        "\n",
        "5. Crea una clase \"Estudiante\" que tenga atributos como nombre, edad, promedio y métodos para estudiar, hacer tareas y presentar exámenes."
      ],
      "metadata": {
        "id": "laT0U1q4D0eP"
      }
    },
    {
      "cell_type": "code",
      "source": [
        "class persona:\n",
        "    def __init__(self, nombre, edad, genero):\n",
        "        self.nombre = nombre\n",
        "        self.edad = edad\n",
        "        self.genero = genero\n",
        "\n",
        "    def saludar(self):\n",
        "        print(f\"{self.nombre} está saludando.\")\n",
        "\n",
        "    def presentarse(self):\n",
        "        print(f\"{self.nombre} se está presentando.\")\n",
        "\n",
        "p1 = persona(\"Fido\", \"19\",  \"helicoptero\")\n",
        "p1.presentarse()\n",
        "\n",
        "class coche:\n",
        "    def __init__(self, marca, modelo, año, kilometraje):\n",
        "        self.marca = marca\n",
        "        self.modelo = modelo\n",
        "        self.año = año\n",
        "        self.kilometraje = kilometraje\n",
        "    def arrancar(self):\n",
        "        print(\"el \"f\"{self.marca} está arrancando.\")\n",
        "\n",
        "    def acelerando(self):\n",
        "        print(\"el \"f\"{self.marca} está acelerando.\")\n",
        "    def acelerando(self):\n",
        "        print(\"el \"f\"{self.marca} está frenando.\")\n",
        "\n",
        "c1 = coche(\"audi\", \"rs3\",  \"2018\",\"5000 km\")\n",
        "c1.arrancar()\n",
        "\n",
        "class Rectangulo:\n",
        "    def __init__(self, base, altura):\n",
        "        self.base = base\n",
        "        self.altura = altura\n",
        "    def calcular_area(self):\n",
        "        return self.base * self.altura\n",
        "\n",
        "rectangulo = Rectangulo(4, 6)\n",
        "print(f\"Área del rectángulo: {rectangulo.calcular_area()}\")"
      ],
      "metadata": {
        "id": "xnh8KjtgG-2A",
        "outputId": "2c874e5f-f784-4930-c366-521c420921c0",
        "colab": {
          "base_uri": "https://localhost:8080/"
        }
      },
      "execution_count": null,
      "outputs": [
        {
          "output_type": "stream",
          "name": "stdout",
          "text": [
            "Fido se está presentando.\n",
            "el audi está arrancando.\n",
            "Área del rectángulo: 24\n"
          ]
        }
      ]
    },
    {
      "cell_type": "code",
      "source": [
        "class banco:\n",
        "    def __init__(self, nombre, direccion):\n",
        "        self.nombre = nombre\n",
        "        self.direccion = direccion\n",
        "        self.cuentas = {}\n",
        "\n",
        "    def abrir_cuenta(self, cliente, saldo_inicial=0):\n",
        "        if cliente not in self.cuentas:\n",
        "            self.cuentas[cliente] = saldo_inicial\n",
        "            print(f\"Cuenta abierta para {cliente} en {self.nombre}\")\n",
        "        else:\n",
        "            print(f\"{cliente} ya tiene una cuenta en {self.nombre}\")\n",
        "\n",
        "    def depositar_dinero(self, cliente, cantidad):\n",
        "        if cliente in self.cuentas:\n",
        "            self.cuentas[cliente] += cantidad\n",
        "            print(f\"{cantidad} dolares depositados en la cuenta de {cliente}\")\n",
        "        else:\n",
        "            print(f\"{cliente} no tiene una cuenta en {self.nombre}\")\n",
        "\n",
        "    def retirar_dinero(self, cliente, cantidad):\n",
        "        if cliente in self.cuentas:\n",
        "            if self.cuentas[cliente] >= cantidad:\n",
        "                self.cuentas[cliente] -= cantidad\n",
        "                print(f\"{cantidad} dolares retirados de la cuenta de {cliente}\")\n",
        "            else:\n",
        "                print(f\"Saldo insuficiente en la cuenta de {cliente}\")\n",
        "        else:\n",
        "            print(f\"{cliente} no tiene una cuenta en {self.nombre}\")\n",
        "\n",
        "    def revisar_saldo(self, cliente):\n",
        "        if cliente in self.cuentas:\n",
        "            print(f\"Saldo de {cliente} en {self.nombre}: {self.cuentas[cliente]} dolares\")\n",
        "        else:\n",
        "            print(f\"{cliente} no tiene una cuenta en {self.nombre}\")\n",
        "\n",
        "mi_banco = banco(\"Le Banco\", \"El parque\")\n",
        "\n",
        "mi_banco.abrir_cuenta(\"Maria\", 1000)\n",
        "mi_banco.abrir_cuenta(\"Juan\", 500)\n",
        "\n",
        "mi_banco.depositar_dinero(\"Maria\", 500)\n",
        "mi_banco.retirar_dinero(\"Juan\", 200)\n",
        "\n",
        "mi_banco.revisar_saldo(\"Maria\")\n",
        "mi_banco.revisar_saldo(\"Juan\")\n"
      ],
      "metadata": {
        "id": "NIk1huTEdGQA",
        "outputId": "d6307c45-b7b7-4fc7-9607-e2a37f75a0a8",
        "colab": {
          "base_uri": "https://localhost:8080/"
        }
      },
      "execution_count": null,
      "outputs": [
        {
          "output_type": "stream",
          "name": "stdout",
          "text": [
            "Cuenta abierta para Maria en Le Banco\n",
            "Cuenta abierta para Juan en Le Banco\n",
            "500 dolares depositados en la cuenta de Maria\n",
            "200 dolares retirados de la cuenta de Juan\n",
            "Saldo de Maria en Le Banco: 1500 dolares\n",
            "Saldo de Juan en Le Banco: 300 dolares\n"
          ]
        }
      ]
    },
    {
      "cell_type": "code",
      "source": [],
      "metadata": {
        "id": "9Ru6-q7veIs9"
      },
      "execution_count": null,
      "outputs": []
    },
    {
      "cell_type": "code",
      "source": [
        "class Estudiante:\n",
        "    def __init__(self, nombre, edad, promedio=0.0):\n",
        "        self.nombre = nombre\n",
        "        self.edad = edad\n",
        "        self.promedio = promedio\n",
        "\n",
        "    def estudiar(self, horas_de_estudio):\n",
        "        print(f\"{self.nombre} está estudiando durante {horas_de_estudio} horas.\")\n",
        "        self.promedio += 0.1 * horas_de_estudio\n",
        "\n",
        "    def hacer_tareas(self, horas_de_trabajo):\n",
        "        print(f\"{self.nombre} está haciendo tareas durante {horas_de_trabajo} horas.\")\n",
        "        self.promedio += 0.05 * horas_de_trabajo\n",
        "\n",
        "    def presentar_examen(self, calificacion):\n",
        "        print(f\"{self.nombre} ha presentado un examen con calificación {calificacion}.\")\n",
        "        self.promedio = (self.promedio + calificacion) / 2\n",
        "\n",
        "#############################################################################################\n",
        "if __name__ == \"__main__\":\n",
        "    estudiante1 = Estudiante(\"Maria\", 20, 85.0)\n",
        "    estudiante2 = Estudiante(\"Juan\", 22, 78.5)\n",
        "\n",
        "    estudiante1.estudiar(5)\n",
        "    estudiante1.hacer_tareas(3)\n",
        "    estudiante1.presentar_examen(90)\n",
        "\n",
        "    estudiante2.estudiar(4)\n",
        "    estudiante2.hacer_tareas(2)\n",
        "    estudiante2.presentar_examen(85)\n",
        "\n",
        "    print(f\"El promedio de {estudiante1.nombre} es {estudiante1.promedio}\")\n",
        "    print(f\"El promedio de {estudiante2.nombre} es {estudiante2.promedio}\")"
      ],
      "metadata": {
        "id": "WbdCE7nxdKFZ",
        "outputId": "a22a8784-866a-4ad1-d2cc-1b480f6a4931",
        "colab": {
          "base_uri": "https://localhost:8080/"
        }
      },
      "execution_count": null,
      "outputs": [
        {
          "output_type": "stream",
          "name": "stdout",
          "text": [
            "Maria está estudiando durante 5 horas.\n",
            "Maria está haciendo tareas durante 3 horas.\n",
            "Maria ha presentado un examen con calificación 90.\n",
            "Juan está estudiando durante 4 horas.\n",
            "Juan está haciendo tareas durante 2 horas.\n",
            "Juan ha presentado un examen con calificación 85.\n",
            "El promedio de Maria es 87.825\n",
            "El promedio de Juan es 82.0\n"
          ]
        }
      ]
    }
  ]
}